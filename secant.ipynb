{
 "cells": [
  {
   "cell_type": "code",
   "execution_count": 1,
   "metadata": {},
   "outputs": [],
   "source": [
    "import numpy as np\n",
    "import matplotlib.pyplot as plt"
   ]
  },
  {
   "cell_type": "code",
   "execution_count": 26,
   "metadata": {},
   "outputs": [
    {
     "name": "stdout",
     "output_type": "stream",
     "text": [
      "4                2                9.0                0.7777777777777778\n",
      "\n",
      "2                9.0                4.0                1.25\n",
      "\n",
      "9.0                4.0                5.111111111111111                0.21739130434782603\n",
      "\n",
      "4.0                5.111111111111111                5.9565217391304355                0.14193025141930268\n",
      "\n",
      "5.111111111111111                5.9565217391304355                5.722488038277512                0.04089719354369648\n",
      "\n",
      "5.9565217391304355                5.722488038277512                5.741121014276812                0.0032455292185906617\n",
      "\n",
      "5.722488038277512                5.741121014276812                5.7416587643797685                9.365762143377603e-05\n",
      "\n",
      "5.741121014276812                5.7416587643797685                5.741657386675193                2.399489350424991e-07\n",
      "\n",
      "5.7416587643797685                5.741657386675193                5.741657386773942                1.7198616745776145e-11\n",
      "\n",
      "5.741657386675193                5.741657386773942                5.741657386773941                1.5469025054439292e-16\n",
      "\n"
     ]
    }
   ],
   "source": [
    "xr = np.zeros(10)\n",
    "x0=4\n",
    "x1=2\n",
    "# print((func(x1)-func(x0)))\n",
    "for i in range(10):\n",
    "    x2 = x1 - (((func(x1))*(x1-x0))/(func(x1)-func(x0)))\n",
    "    error = abs((x1-x2)/x2)\n",
    "    string = str(x0) + \"                \" + str(x1) +\"                \"+ str(x2)+\"                \" +str(error)+\"\\n\"\n",
    "    print(string)\n",
    "    f = open(\"secant.txt\", \"a\")\n",
    "    f.write(string)\n",
    "    f.close()\n",
    "    x0=x1\n",
    "    x1=x2"
   ]
  },
  {
   "cell_type": "code",
   "execution_count": 5,
   "metadata": {},
   "outputs": [],
   "source": [
    "def func(x):\n",
    "    return (x*x)-(4*x)-10"
   ]
  },
  {
   "cell_type": "code",
   "execution_count": 25,
   "metadata": {},
   "outputs": [],
   "source": [
    "f = open(\"secant.txt\", \"w\")\n",
    "f.write(\"x0              x1              x2         error\\n\")\n",
    "f.close()"
   ]
  },
  {
   "cell_type": "code",
   "execution_count": null,
   "metadata": {},
   "outputs": [],
   "source": []
  }
 ],
 "metadata": {
  "kernelspec": {
   "display_name": "Python 3",
   "language": "python",
   "name": "python3"
  },
  "language_info": {
   "codemirror_mode": {
    "name": "ipython",
    "version": 3
   },
   "file_extension": ".py",
   "mimetype": "text/x-python",
   "name": "python",
   "nbconvert_exporter": "python",
   "pygments_lexer": "ipython3",
   "version": "3.7.3"
  }
 },
 "nbformat": 4,
 "nbformat_minor": 2
}
