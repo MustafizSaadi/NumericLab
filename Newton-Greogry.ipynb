{
 "cells": [
  {
   "cell_type": "code",
   "execution_count": 1,
   "metadata": {},
   "outputs": [],
   "source": [
    "import numpy as np\n",
    "import matplotlib.pyplot as plt"
   ]
  },
  {
   "cell_type": "code",
   "execution_count": 3,
   "metadata": {},
   "outputs": [
    {
     "name": "stdout",
     "output_type": "stream",
     "text": [
      "[10. 20. 30. 40. 50.] [0.1736 0.342  0.5    0.6428 0.766 ]\n"
     ]
    }
   ],
   "source": [
    "f = open('data.txt','r')\n",
    "n = int(f.readline())\n",
    "X = np.zeros(n)\n",
    "Y = np.zeros(n)\n",
    "delta = np.zeros(n+5)\n",
    "S = np.zeros(n+5)\n",
    "fact = np.zeros(n+5)\n",
    "for i in range(n):\n",
    "    st = f.readline()\n",
    "    string = st.split()\n",
    "    X[i] = float(string[0])\n",
    "    Y[i] = float(string[1])\n",
    "print(X,Y)"
   ]
  },
  {
   "cell_type": "code",
   "execution_count": 9,
   "metadata": {},
   "outputs": [],
   "source": [
    "def forward_diff_table(X,Y,n):\n",
    "    temp = np.zeros(n+5)\n",
    "    k = 0\n",
    "    delta[0] = Y[0]\n",
    "    k+=1\n",
    "    for i in range(n):\n",
    "        temp[i] = Y[i]\n",
    "    for i in reversed(range(1,n)):\n",
    "        for j in range(i):\n",
    "            temp[j] = temp[j+1]-temp[j]\n",
    "        delta[k] = temp[0]\n",
    "        k += 1"
   ]
  },
  {
   "cell_type": "code",
   "execution_count": 14,
   "metadata": {},
   "outputs": [],
   "source": [
    "def calculate_S_C_J(s,n):\n",
    "    for i in range(n):\n",
    "        if i==0:\n",
    "            S[i] = 1\n",
    "            fact[i] = 1\n",
    "        else:\n",
    "            S[i] = S[i-1] * (s-i+1)\n",
    "            fact[i] = fact[i-1] * i"
   ]
  },
  {
   "cell_type": "code",
   "execution_count": 15,
   "metadata": {},
   "outputs": [],
   "source": [
    "def newton_gregory(x,x0,h,n):\n",
    "    outputy = 0\n",
    "    s = (x-x0)/h\n",
    "    calculate_S_C_J(s,n)\n",
    "    for i in range(n):\n",
    "        outputy += (S[i]/fact[i]) * delta[i]\n",
    "    return outputy\n",
    "        "
   ]
  },
  {
   "cell_type": "code",
   "execution_count": 10,
   "metadata": {},
   "outputs": [],
   "source": [
    "forward_diff_table(X,Y,n)"
   ]
  },
  {
   "cell_type": "code",
   "execution_count": 11,
   "metadata": {},
   "outputs": [],
   "source": [
    "size=104\n",
    "inval = np.zeros(size)\n",
    "outval = np.zeros(size)"
   ]
  },
  {
   "cell_type": "code",
   "execution_count": 16,
   "metadata": {},
   "outputs": [],
   "source": [
    "st = 9\n",
    "for i in range(size):\n",
    "    inval[i] = st\n",
    "    outval[i] = newton_gregory(st,X[0],X[1]-X[0],n)\n",
    "    st += 0.5"
   ]
  },
  {
   "cell_type": "code",
   "execution_count": 17,
   "metadata": {},
   "outputs": [
    {
     "data": {
      "image/png": "[encoded data removed]",
      "text/plain": [
       "<Figure size 432x288 with 1 Axes>"
      ]
     },
     "metadata": {
      "needs_background": "light"
     },
     "output_type": "display_data"
    }
   ],
   "source": [
    "plt.xlabel('X')\n",
    "plt.ylabel('Y')\n",
    "plt.plot(inval,outval)\n",
    "plt.scatter(X,Y)\n",
    "plt.show()"
   ]
  },
  {
   "cell_type": "code",
   "execution_count": null,
   "metadata": {},
   "outputs": [],
   "source": []
  }
 ],
 "metadata": {
  "kernelspec": {
   "display_name": "Python 3",
   "language": "python",
   "name": "python3"
  },
  "language_info": {
   "codemirror_mode": {
    "name": "ipython",
    "version": 3
   },
   "file_extension": ".py",
   "mimetype": "text/x-python",
   "name": "python",
   "nbconvert_exporter": "python",
   "pygments_lexer": "ipython3",
   "version": "3.7.3"
  }
 },
 "nbformat": 4,
 "nbformat_minor": 2
}
