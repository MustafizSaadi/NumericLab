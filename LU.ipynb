{
 "cells": [
  {
   "cell_type": "code",
   "execution_count": 1,
   "metadata": {},
   "outputs": [],
   "source": [
    "import numpy as np"
   ]
  },
  {
   "cell_type": "code",
   "execution_count": 2,
   "metadata": {},
   "outputs": [
    {
     "name": "stdout",
     "output_type": "stream",
     "text": [
      "5\n",
      "\n"
     ]
    }
   ],
   "source": [
    "f = open(\"input.txt\",\"r\")\n",
    "n = f.readline()\n",
    "print(n)\n",
    "n = int(n)\n",
    "A = np.array(np.zeros((n,n+1)))\n",
    "for i in range(n):\n",
    "    st = f.readline()\n",
    "    string = st.split()\n",
    "    for j in range(n+1):\n",
    "        A[i][j] = int(string[j])"
   ]
  },
  {
   "cell_type": "code",
   "execution_count": 3,
   "metadata": {},
   "outputs": [],
   "source": [
    "def L_Calculation(A,L,U,i,j):\n",
    "    sum=0\n",
    "    for k in range(j):\n",
    "        sum += L[i][k]*U[k][j]\n",
    "    return A[i][j] - sum"
   ]
  },
  {
   "cell_type": "code",
   "execution_count": 4,
   "metadata": {},
   "outputs": [],
   "source": [
    "def U_Calculation(A,L,U,i,j):\n",
    "    sum=0\n",
    "    for k in range(i):\n",
    "        sum += L[i][k]*U[k][j]\n",
    "    return A[i][j] - sum"
   ]
  },
  {
   "cell_type": "code",
   "execution_count": 5,
   "metadata": {},
   "outputs": [],
   "source": [
    "def dolittle(A,L,U,n):\n",
    "    for j in range(n):\n",
    "        for i in range(n):\n",
    "            if i>j:\n",
    "                L[i][j] = L_Calculation(A,L,U,i,j)/U[j][j]\n",
    "            else:\n",
    "                U[i][j] = U_Calculation(A,L,U,i,j)\n",
    "    return L,U"
   ]
  },
  {
   "cell_type": "code",
   "execution_count": 8,
   "metadata": {},
   "outputs": [
    {
     "name": "stdout",
     "output_type": "stream",
     "text": [
      "[[ 1. -1.  3.  2. -2.  4.]\n",
      " [-3.  2.  1.  4. -1.  8.]\n",
      " [ 3. -1.  2.  3.  4. -2.]\n",
      " [ 2.  1. -3.  2. -2.  4.]\n",
      " [ 2.  1.  2. -4. -5.  2.]] [[   1.            0.            0.            0.            0.        ]\n",
      " [  -3.           -1.            0.            0.            0.        ]\n",
      " [   3.            2.           13.            0.            0.        ]\n",
      " [   2.            3.           21.            0.53846154    0.        ]\n",
      " [   2.            3.           26.          -12.         -293.42857143]] [[  1.          -1.           3.           2.          -2.        ]\n",
      " [  0.           1.         -10.         -10.           7.        ]\n",
      " [  0.           0.           1.           1.30769231  -0.30769231]\n",
      " [  0.           0.           0.           1.         -23.28571429]\n",
      " [  0.           0.           0.           0.           1.        ]]\n",
      "[[ 1.30000000e+01  7.00000000e+00  2.90000000e+01  2.50769231e+01\n",
      "   5.86857143e+02]\n",
      " [-3.90000000e+01 -3.00000000e+01 -1.58000000e+02 -8.93846154e+01\n",
      "  -2.05400000e+03]\n",
      " [ 5.00000000e+00  5.00000000e+00  3.24615385e+01  4.39644970e+00\n",
      "   9.02857143e+01]\n",
      " [-4.45714286e+01 -6.68571429e+01 -5.84428571e+02  2.79967033e+02\n",
      "   6.83269388e+03]\n",
      " [ 2.00000000e+00  3.00000000e+00  2.60000000e+01 -1.20000000e+01\n",
      "  -2.93428571e+02]]\n"
     ]
    }
   ],
   "source": [
    "L = np.array(np.zeros((n,n)))\n",
    "U = np.array(np.zeros((n,n)))\n",
    "# for i in range(n):\n",
    "#     L[i][i]=1\n",
    "# L,U = dolittle(A,L,U,n)\n",
    "for i in range(n):\n",
    "    U[i][i]=1\n",
    "L,U = crout(A,L,U,n)\n",
    "print(A,L,U)\n",
    "print(np.dot(U,L))\n",
    "\n",
    "    "
   ]
  },
  {
   "cell_type": "code",
   "execution_count": 6,
   "metadata": {},
   "outputs": [],
   "source": [
    "def crout(A,L,U,n):\n",
    "    for j in range(n):\n",
    "        for i in range(n):\n",
    "            if i>=j:\n",
    "                L[i][j] = L_Calculation(A,L,U,i,j)\n",
    "            else:\n",
    "                U[i][j] = U_Calculation(A,L,U,i,j)/L[i][i]\n",
    "    return L,U"
   ]
  },
  {
   "cell_type": "code",
   "execution_count": null,
   "metadata": {},
   "outputs": [],
   "source": []
  }
 ],
 "metadata": {
  "kernelspec": {
   "display_name": "Python 3",
   "language": "python",
   "name": "python3"
  },
  "language_info": {
   "codemirror_mode": {
    "name": "ipython",
    "version": 3
   },
   "file_extension": ".py",
   "mimetype": "text/x-python",
   "name": "python",
   "nbconvert_exporter": "python",
   "pygments_lexer": "ipython3",
   "version": "3.7.3"
  }
 },
 "nbformat": 4,
 "nbformat_minor": 2
}
