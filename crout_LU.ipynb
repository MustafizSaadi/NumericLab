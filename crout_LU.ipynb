{
 "cells": [
  {
   "cell_type": "code",
   "execution_count": 1,
   "metadata": {},
   "outputs": [],
   "source": [
    "import numpy as np"
   ]
  },
  {
   "cell_type": "code",
   "execution_count": 78,
   "metadata": {},
   "outputs": [
    {
     "name": "stdout",
     "output_type": "stream",
     "text": [
      "10\n",
      "\n",
      "[[ 1.  2.  3.  4.  5.  6.  7.  8.  9. 10.  1.]\n",
      " [11. 12. 13. 14. 15. 16. 17. 18. 19. 20.  2.]\n",
      " [21. 22. 23. 24. 25. 26. 27. 28. 29. 30.  3.]\n",
      " [ 1.  2.  3.  4.  5.  6.  7.  8.  9. 10.  1.]\n",
      " [11. 12. 13. 14. 15. 16. 17. 18. 19. 20.  2.]\n",
      " [21. 22. 23. 24. 25. 26. 27. 28. 29. 30.  3.]\n",
      " [ 1.  2.  3.  4.  5.  6.  7.  8.  9. 10.  1.]\n",
      " [11. 12. 13. 14. 15. 16. 17. 18. 19. 20.  2.]\n",
      " [21. 22. 23. 24. 25. 26. 27. 28. 29. 30.  3.]\n",
      " [ 1.  2.  3.  4.  5.  6.  7.  8.  9. 10.  1.]]\n",
      "[[ 1.  2.  3. nan nan nan nan nan nan nan]\n",
      " [11. 12. 13. nan nan nan nan nan nan nan]\n",
      " [21. 22. 23. nan nan nan nan nan nan nan]\n",
      " [nan nan nan nan nan nan nan nan nan nan]\n",
      " [nan nan nan nan nan nan nan nan nan nan]\n",
      " [nan nan nan nan nan nan nan nan nan nan]\n",
      " [nan nan nan nan nan nan nan nan nan nan]\n",
      " [nan nan nan nan nan nan nan nan nan nan]\n",
      " [nan nan nan nan nan nan nan nan nan nan]\n",
      " [nan nan nan nan nan nan nan nan nan nan]]\n"
     ]
    },
    {
     "name": "stderr",
     "output_type": "stream",
     "text": [
      "C:\\Users\\USER\\Anaconda3\\lib\\site-packages\\ipykernel_launcher.py:29: RuntimeWarning: invalid value encountered in double_scalars\n"
     ]
    }
   ],
   "source": [
    "f = open(\"input.txt\",\"r\")\n",
    "n = f.readline()\n",
    "print(n)\n",
    "n = int(n)\n",
    "A = np.array(np.zeros((n,n+1)))\n",
    "for i in range(n):\n",
    "    st = f.readline()\n",
    "    string = st.split()\n",
    "    for j in range(n+1):\n",
    "        A[i][j] = int(string[j])\n",
    "        \n",
    "L,U = crout(A,n)\n",
    "print(A)\n",
    "# print(L)\n",
    "# print(U)\n",
    "out = \"L = \"\n",
    "x=np.array2string(L,formatter={'float_kind': lambda L: \"%.2f\" % L})\n",
    "y=np.array2string(U,formatter={'float_kind': lambda U: \"%.2f\" % U})\n",
    "# print(str(6))\n",
    "# print(x)\n",
    "# for i in range(n):\n",
    "#     for j in range(n):\n",
    "# #         x=float(L[i][j])\n",
    "# #         ab=str(x)\n",
    "# #         print(type(x))\n",
    "#         out = out + L[i][j] + '\\t'\n",
    "#     out += '\\n\\t'\n",
    "wr = open(\"output.txt\",\"w\")\n",
    "out = out +\"\\n\"+x +\"\\n\" + \"U =\"+\"\\n\"+ y\n",
    "wr.write(out)\n",
    "print(np.dot(L,U))"
   ]
  },
  {
   "cell_type": "code",
   "execution_count": 76,
   "metadata": {},
   "outputs": [],
   "source": [
    "def crout(A,n):\n",
    "    L = np.array(np.zeros((n,n)))\n",
    "    U = np.array(np.zeros((n,n)))\n",
    "    for i in range(n):\n",
    "        U[i][i]=1\n",
    "    L[:,0] = A[:,0]\n",
    "    for j in range(n):\n",
    "        if j >=1:\n",
    "            U[0][j]=A[0][j]/L[0][0]\n",
    "    \n",
    "    for j in range(n-1):\n",
    "        if j>=1:\n",
    "            for i in range(n):\n",
    "                if i >=j:\n",
    "                    L[i][j] = A[i][j]\n",
    "                    sum = 0\n",
    "                    for k in range(j):\n",
    "                        sum += L[i][k] * U[k][j] \n",
    "#                     print(i,j,sum)\n",
    "                    L[i][j] -= sum\n",
    "            for k in range(n):\n",
    "                if k>j:\n",
    "                    U[j][k] = A[j][k]\n",
    "                    sum=0\n",
    "                    for i in range(j):\n",
    "                        sum += L[j][i]*U[i][k]\n",
    "#                     print(j,k,sum)\n",
    "                    U[j][k] -= sum\n",
    "                    U[j][k] /= L[j][j]\n",
    "                    \n",
    "    L[n-1][n-1] = A[n-1][n-1]\n",
    "    sum=0\n",
    "    for k in range(n-1):\n",
    "        sum += L[n-1][k]*U[k][n-1]\n",
    "    L[n-1][n-1] -= sum\n",
    "#     print(L,U,A)\n",
    "    return L,U"
   ]
  },
  {
   "cell_type": "code",
   "execution_count": null,
   "metadata": {},
   "outputs": [],
   "source": []
  }
 ],
 "metadata": {
  "kernelspec": {
   "display_name": "Python 3",
   "language": "python",
   "name": "python3"
  },
  "language_info": {
   "codemirror_mode": {
    "name": "ipython",
    "version": 3
   },
   "file_extension": ".py",
   "mimetype": "text/x-python",
   "name": "python",
   "nbconvert_exporter": "python",
   "pygments_lexer": "ipython3",
   "version": "3.7.3"
  }
 },
 "nbformat": 4,
 "nbformat_minor": 2
}
