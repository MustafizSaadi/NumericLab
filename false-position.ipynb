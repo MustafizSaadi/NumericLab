{
 "cells": [
  {
   "cell_type": "code",
   "execution_count": 1,
   "metadata": {},
   "outputs": [],
   "source": [
    "import numpy as np\n",
    "import matplotlib.pyplot as plt"
   ]
  },
  {
   "cell_type": "code",
   "execution_count": 2,
   "metadata": {},
   "outputs": [],
   "source": [
    "def func(x):\n",
    "    return (x*x)-(4*x)-10"
   ]
  },
  {
   "cell_type": "code",
   "execution_count": 7,
   "metadata": {},
   "outputs": [
    {
     "name": "stdout",
     "output_type": "stream",
     "text": [
      "4                9                5.111111111111111               0.7608695652173915\n",
      "\n",
      "5.111111111111111                9                5.538461538461538               0.625\n",
      "\n",
      "5.538461538461538                9                5.678832116788321               0.5848329048843188\n",
      "\n",
      "5.678832116788321                9                5.722488038277512               0.572742474916388\n",
      "\n",
      "5.722488038277512                9                5.735832217759929               0.5690835537575852\n",
      "\n",
      "5.735832217759929                9                5.739889438463777               0.5679744525547443\n",
      "\n",
      "5.739889438463777                9                5.741121014276813               0.567638093260728\n",
      "\n",
      "5.741121014276813                9                5.74149467700076               0.5675360696670396\n",
      "\n",
      "5.74149467700076                9                5.741608030124472               0.5675051227425724\n",
      "\n",
      "5.741608030124472                9                5.741642415004932               0.5674957354501619\n",
      "\n"
     ]
    }
   ],
   "source": [
    "x0=4\n",
    "x1=9\n",
    "for i in range(10):\n",
    "    x2 = x0 - (func(x0)*((x1-x0)/(func(x1)-func(x0))))\n",
    "    error = abs((x1-x2)/x2)\n",
    "    string = str(x0) + \"                \" + str(x1) +\"                \"+ str(x2) +\"               \"+str(error)+\"\\n\"\n",
    "    print(string)\n",
    "    f = open(\"false-position.txt\", \"a\")\n",
    "    f.write(string)\n",
    "    f.close()\n",
    "    if(func(x2)*func(x0) <0):\n",
    "        x1=x2\n",
    "    else:\n",
    "        x0=x2\n",
    "    "
   ]
  },
  {
   "cell_type": "code",
   "execution_count": 6,
   "metadata": {},
   "outputs": [],
   "source": [
    "f = open(\"false-position.txt\", \"w\")\n",
    "f.write(\"x0              x1              x2         error\\n\")\n",
    "f.close()"
   ]
  },
  {
   "cell_type": "code",
   "execution_count": null,
   "metadata": {},
   "outputs": [],
   "source": []
  }
 ],
 "metadata": {
  "kernelspec": {
   "display_name": "Python 3",
   "language": "python",
   "name": "python3"
  },
  "language_info": {
   "codemirror_mode": {
    "name": "ipython",
    "version": 3
   },
   "file_extension": ".py",
   "mimetype": "text/x-python",
   "name": "python",
   "nbconvert_exporter": "python",
   "pygments_lexer": "ipython3",
   "version": "3.7.3"
  }
 },
 "nbformat": 4,
 "nbformat_minor": 2
}
