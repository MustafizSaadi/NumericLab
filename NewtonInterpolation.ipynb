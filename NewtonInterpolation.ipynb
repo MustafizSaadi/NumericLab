{
 "cells": [
  {
   "cell_type": "code",
   "execution_count": 1,
   "metadata": {},
   "outputs": [],
   "source": [
    "import numpy as np\n",
    "import matplotlib.pyplot as plt"
   ]
  },
  {
   "cell_type": "code",
   "execution_count": 20,
   "metadata": {},
   "outputs": [
    {
     "name": "stdout",
     "output_type": "stream",
     "text": [
      "[2. 3. 4.] [1.4142 1.7321 2.    ]\n"
     ]
    }
   ],
   "source": [
    "f = open('data.txt','r')\n",
    "n = int(f.readline())\n",
    "X = np.zeros(n)\n",
    "Y = np.zeros(n)\n",
    "flag = np.zeros((n+5,n+5))\n",
    "A = np.zeros((n+5,n+5))\n",
    "for i in range(n):\n",
    "    st = f.readline()\n",
    "    string = st.split()\n",
    "    X[i] = float(string[0])\n",
    "    Y[i] = float(string[1])\n",
    "print(X,Y)"
   ]
  },
  {
   "cell_type": "code",
   "execution_count": 21,
   "metadata": {},
   "outputs": [],
   "source": [
    "def divided_diff(i,j,X,Y):\n",
    "    if flag[i][j]==1:\n",
    "        return A[i][j]\n",
    "    if i==j:\n",
    "        flag[i][j] = 1\n",
    "        A[i][j] = Y[i]\n",
    "        return A[i][j]\n",
    "    A[i][j] = (divided_diff(i+1,j,X,Y)-divided_diff(i,j-1,X,Y))/(X[j]-X[i])\n",
    "    flag[i][j] = 1\n",
    "    return A[i][j]"
   ]
  },
  {
   "cell_type": "code",
   "execution_count": 22,
   "metadata": {},
   "outputs": [],
   "source": [
    "def newton(X,Y,n,inputx):\n",
    "    outputy = 0\n",
    "    for i in range(n):\n",
    "        temp=divided_diff(0,i,X,Y)\n",
    "        mul=1\n",
    "        for j in range(i):\n",
    "            mul *= (inputx-X[j])\n",
    "        temp *= mul\n",
    "        outputy += temp\n",
    "    return outputy\n",
    "        "
   ]
  },
  {
   "cell_type": "code",
   "execution_count": 23,
   "metadata": {},
   "outputs": [],
   "source": [
    "mn = min(X)\n",
    "mx = max(X)\n",
    "size = int((mx-mn+6)/0.2)\n",
    "inval = np.zeros(size)\n",
    "outval = np.zeros(size)"
   ]
  },
  {
   "cell_type": "code",
   "execution_count": 24,
   "metadata": {},
   "outputs": [],
   "source": [
    "st = mn-3\n",
    "for i in range(size):\n",
    "    inval[i] = st\n",
    "    outval[i] = newton(X,Y,n,st)\n",
    "    st += 0.2"
   ]
  },
  {
   "cell_type": "code",
   "execution_count": 25,
   "metadata": {},
   "outputs": [
    {
     "data": {
      "image/png": "[encoded data removed]",
      "text/plain": [
       "<Figure size 432x288 with 1 Axes>"
      ]
     },
     "metadata": {
      "needs_background": "light"
     },
     "output_type": "display_data"
    }
   ],
   "source": [
    "plt.xlabel('X')\n",
    "plt.ylabel('Y')\n",
    "plt.plot(inval,outval)\n",
    "plt.scatter(X,Y)\n",
    "plt.show()"
   ]
  },
  {
   "cell_type": "code",
   "execution_count": null,
   "metadata": {},
   "outputs": [],
   "source": []
  }
 ],
 "metadata": {
  "kernelspec": {
   "display_name": "Python 3",
   "language": "python",
   "name": "python3"
  },
  "language_info": {
   "codemirror_mode": {
    "name": "ipython",
    "version": 3
   },
   "file_extension": ".py",
   "mimetype": "text/x-python",
   "name": "python",
   "nbconvert_exporter": "python",
   "pygments_lexer": "ipython3",
   "version": "3.7.3"
  }
 },
 "nbformat": 4,
 "nbformat_minor": 2
}
