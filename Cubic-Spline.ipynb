{
 "cells": [
  {
   "cell_type": "code",
   "execution_count": 23,
   "metadata": {},
   "outputs": [],
   "source": [
    "import numpy as np\n",
    "import matplotlib.pyplot as plt"
   ]
  },
  {
   "cell_type": "code",
   "execution_count": 24,
   "metadata": {},
   "outputs": [],
   "source": [
    "f = open('data.txt','r')\n",
    "n = int(f.readline())\n",
    "input_data = np.zeros((n,2))\n",
    "h = np.zeros(n+5)\n",
    "d = np.zeros(n+5)\n",
    "multi_dim_array = np.zeros((n-1,n))\n",
    "for i in range(n):\n",
    "    st = f.readline()\n",
    "    string = st.split()\n",
    "    input_data[i][0] = float(string[0])\n",
    "    input_data[i][1] = float(string[1])\n",
    "input_data = input_data[input_data[:,0].argsort()]\n",
    "# print(input_data)"
   ]
  },
  {
   "cell_type": "code",
   "execution_count": 25,
   "metadata": {},
   "outputs": [],
   "source": [
    "def calculate_h(input_data,h,n):\n",
    "    for i in range(1,n):\n",
    "        h[i] = input_data[i][0] -  input_data[i-1][0]"
   ]
  },
  {
   "cell_type": "code",
   "execution_count": 26,
   "metadata": {},
   "outputs": [],
   "source": [
    "def calculate_d(input_data,h,d,n):\n",
    "    for i in range(1,n-1):\n",
    "        f1 = (input_data[i+1][1] - input_data[i][1])/h[i+1]\n",
    "        f2 = (input_data[i][1] - input_data[i-1][1])/h[i]\n",
    "        d[i] = 6*(f1 - f2)"
   ]
  },
  {
   "cell_type": "code",
   "execution_count": 27,
   "metadata": {},
   "outputs": [],
   "source": [
    "calculate_h(input_data,h,n)\n",
    "calculate_d(input_data,h,d,n)\n",
    "# print(h)\n",
    "# print(d)"
   ]
  },
  {
   "cell_type": "code",
   "execution_count": 28,
   "metadata": {},
   "outputs": [],
   "source": [
    "def calculate_matrix(multi_dim_array,h,d,n):\n",
    "    for i in range(1,n-1):\n",
    "        if i == 1:\n",
    "            multi_dim_array[i][i] = 2*(h[i] + h[i+1])\n",
    "            multi_dim_array[i][i+1] = h[i+1]\n",
    "        elif i == n-2:\n",
    "            multi_dim_array[i][i-1] = h[i]\n",
    "            multi_dim_array[i][i] = 2*(h[i] + h[i+1])\n",
    "        else:\n",
    "            multi_dim_array[i][i-1] = h[i]\n",
    "            multi_dim_array[i][i] = 2*(h[i] + h[i+1])\n",
    "            multi_dim_array[i][i+1] = h[i+1]\n",
    "        multi_dim_array[i][n-1] = d[i] \n",
    "            \n",
    "    "
   ]
  },
  {
   "cell_type": "code",
   "execution_count": 29,
   "metadata": {},
   "outputs": [],
   "source": [
    "def reduced_gaussian_elimination(multi_dim_array,n):\n",
    "    a = np.zeros(n)\n",
    "    for i in range(2,n-1):\n",
    "        temp = (multi_dim_array[i-1]/(multi_dim_array[i-1][i-1])) * multi_dim_array[i][i-1]\n",
    "        multi_dim_array[i] -= temp\n",
    "#         print(multi_dim_array[i])\n",
    "    a[n-2] = multi_dim_array[n-2][n-1]/multi_dim_array[n-2][n-2]\n",
    "    for i in reversed(range(1,n-2)):\n",
    "        a[i] = (multi_dim_array[i][n-1] - (a[i+1] * multi_dim_array[i][i+1]))/(multi_dim_array[i][i])\n",
    "    return a\n",
    "\n",
    "# calculate_matrix(multi_dim_array,h,d,n)\n",
    "# print(multi_dim_array)"
   ]
  },
  {
   "cell_type": "code",
   "execution_count": 30,
   "metadata": {},
   "outputs": [
    {
     "name": "stdout",
     "output_type": "stream",
     "text": [
      "[ 0.         -0.88028577 -0.79904744  0.54795281  1.13096    -0.68454524\n",
      " -0.9797632   0.        ]\n"
     ]
    }
   ],
   "source": [
    "calculate_matrix(multi_dim_array,h,d,n)\n",
    "a = reduced_gaussian_elimination(multi_dim_array,n)\n",
    "print(a)"
   ]
  },
  {
   "cell_type": "code",
   "execution_count": 31,
   "metadata": {},
   "outputs": [],
   "source": [
    "def calculate_function(a,h,input_data,x,i):\n",
    "    x1 = x - input_data[i][0]\n",
    "    x2 = x - input_data[i-1][0]\n",
    "    y1 = input_data[i][1]\n",
    "    y2 = input_data[i-1][1]\n",
    "    return ((a[i-1]*((h[i]**2 * x1) - x1**3))/(6*h[i])) + ((a[i] * ( x2**3 - (h[i]**2 * x2)))/(6*h[i])) +(((y1*x2) - (y2*x1))/h[i])"
   ]
  },
  {
   "cell_type": "code",
   "execution_count": 32,
   "metadata": {},
   "outputs": [
    {
     "name": "stdout",
     "output_type": "stream",
     "text": [
      "107\n"
     ]
    },
    {
     "data": {
      "image/png": "[encoded data removed]",
      "text/plain": [
       "<Figure size 432x288 with 1 Axes>"
      ]
     },
     "metadata": {
      "needs_background": "light"
     },
     "output_type": "display_data"
    }
   ],
   "source": [
    "plt.scatter(input_data[0][0],input_data[0][1])\n",
    "size = int((input_data[n-1][0] - input_data[0][0])/0.1) + n-1\n",
    "inval = np.zeros(size)\n",
    "outval = np.zeros(size)\n",
    "j = 0\n",
    "print(size)\n",
    "for i in range(1,n):\n",
    "    st = input_data[i-1][0]\n",
    "    while st <= input_data[i][0]:\n",
    "#        if(j>size): break\n",
    "        val = calculate_function(a,h,input_data,st,i)\n",
    "        inval[j] = st\n",
    "        outval[j] = val\n",
    "#        print(st)\n",
    "        j += 1\n",
    "#        if(j>size): break\n",
    "#         print(st,val)\n",
    "#        plt.plot(st,val)\n",
    "        st =round(st + 0.1,2)\n",
    "    plt.scatter(input_data[i][0],input_data[i][1])\n",
    "plt.plot(inval,outval)\n",
    "plt.show()\n"
   ]
  },
  {
   "cell_type": "code",
   "execution_count": 33,
   "metadata": {},
   "outputs": [],
   "source": [
    "# 7\n",
    "# -7.0 2.0\n",
    "# -9.0 8.0\n",
    "# 0.0 1.0\n",
    "# 9.0 9.0\n",
    "# 8.0 5.0\n",
    "# 3.0 -3.0\n",
    "# -3.0 -7.0"
   ]
  },
  {
   "cell_type": "code",
   "execution_count": null,
   "metadata": {},
   "outputs": [],
   "source": []
  }
 ],
 "metadata": {
  "kernelspec": {
   "display_name": "Python 3",
   "language": "python",
   "name": "python3"
  },
  "language_info": {
   "codemirror_mode": {
    "name": "ipython",
    "version": 3
   },
   "file_extension": ".py",
   "mimetype": "text/x-python",
   "name": "python",
   "nbconvert_exporter": "python",
   "pygments_lexer": "ipython3",
   "version": "3.7.3"
  }
 },
 "nbformat": 4,
 "nbformat_minor": 2
}
