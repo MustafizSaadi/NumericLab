{
 "cells": [
  {
   "cell_type": "code",
   "execution_count": 1,
   "metadata": {},
   "outputs": [],
   "source": [
    "import numpy as np\n",
    "import matplotlib.pyplot as plt"
   ]
  },
  {
   "cell_type": "code",
   "execution_count": 10,
   "metadata": {},
   "outputs": [
    {
     "name": "stdout",
     "output_type": "stream",
     "text": [
      "9.0\n",
      "4.0\n",
      "5.111111111111111\n",
      "5.9565217391304355\n",
      "5.722488038277512\n",
      "5.741121014276812\n",
      "5.7416587643797685\n",
      "5.741657386675193\n",
      "5.741657386773942\n",
      "5.741657386773941\n"
     ]
    }
   ],
   "source": [
    "xr = np.zeros(10)\n",
    "fun = np.zeros(10)\n",
    "x0=4\n",
    "x1=2\n",
    "# print((func(x1)-func(x0)))\n",
    "for i in range(10):\n",
    "    x2 = x1 - (((func(x1))*(x1-x0))/(func(x1)-func(x0)))\n",
    "    xr[i] = x2\n",
    "    fun[i] = func(x2)\n",
    "    error = abs((x1-x2)/x2)\n",
    "    print(x2)\n",
    "#     string = str(x0) + \"                \" + str(x1) +\"                \"+ str(x2)+\"                \" +str(error)+\"\\n\"\n",
    "#     print(string)\n",
    "#     f = open(\"secant.txt\", \"a\")\n",
    "#     f.write(string)\n",
    "#     f.close()\n",
    "    x0=x1\n",
    "    x1=x2"
   ]
  },
  {
   "cell_type": "code",
   "execution_count": 3,
   "metadata": {},
   "outputs": [],
   "source": [
    "def func(x):\n",
    "    return (x*x)-(4*x)-10"
   ]
  },
  {
   "cell_type": "code",
   "execution_count": 6,
   "metadata": {},
   "outputs": [],
   "source": [
    "X = np.zeros(20)\n",
    "xAxes = np.zeros(20)\n",
    "xAxesY = np.zeros(20)\n",
    "yAxes = np.zeros(20)\n",
    "yAxesX = np.zeros(20)\n",
    "i= -10\n",
    "j=0\n",
    "while i<=10 and j<20:\n",
    "    X[j] = i\n",
    "    xAxesY[j]=j-10\n",
    "    yAxesX[j]=j-10\n",
    "    i += 1\n",
    "    j +=1\n",
    "Y = np.multiply(X,X) -4*X -10"
   ]
  },
  {
   "cell_type": "code",
   "execution_count": 11,
   "metadata": {},
   "outputs": [
    {
     "data": {
      "image/png": "[encoded data removed]",
      "text/plain": [
       "<Figure size 432x288 with 1 Axes>"
      ]
     },
     "metadata": {
      "needs_background": "light"
     },
     "output_type": "display_data"
    }
   ],
   "source": [
    "plt.xlabel('X')\n",
    "plt.ylabel('Y')\n",
    "plt.plot(xAxes,xAxesY)\n",
    "plt.plot(yAxesX,yAxes)\n",
    "plt.plot(X,Y)\n",
    "plt.scatter(xr,fun)\n",
    "plt.show()"
   ]
  },
  {
   "cell_type": "code",
   "execution_count": null,
   "metadata": {},
   "outputs": [],
   "source": []
  }
 ],
 "metadata": {
  "kernelspec": {
   "display_name": "Python 3",
   "language": "python",
   "name": "python3"
  },
  "language_info": {
   "codemirror_mode": {
    "name": "ipython",
    "version": 3
   },
   "file_extension": ".py",
   "mimetype": "text/x-python",
   "name": "python",
   "nbconvert_exporter": "python",
   "pygments_lexer": "ipython3",
   "version": "3.7.3"
  }
 },
 "nbformat": 4,
 "nbformat_minor": 2
}
